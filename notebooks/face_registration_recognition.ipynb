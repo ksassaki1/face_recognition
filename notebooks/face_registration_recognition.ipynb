{
 "cells": [
  {
   "cell_type": "markdown",
   "id": "6207dfcf",
   "metadata": {},
   "source": [
    "# Cadastro e Reconhecimento Facial com `face_recognition`\n",
    "\n",
    "Este notebook demonstra como **cadastrar** rostos (gerar e salvar **embeddings**) e depois **reconhecê‑los** em novas imagens usando a biblioteca [`face_recognition`](https://github.com/ageitgey/face_recognition). Os passos estão organizados em células separadas para facilitar o entendimento e a execução sequencial."
   ]
  },
  {
   "cell_type": "markdown",
   "id": "183ad6f9",
   "metadata": {},
   "source": [
    "## 1. Instalação de dependências\n",
    "Execute a célula abaixo **apenas** se você ainda não tem as bibliotecas instaladas no seu ambiente. No Google Colab, é necessário reiniciar o runtime após a instalação do `dlib`.\n"
   ]
  },
  {
   "cell_type": "code",
   "execution_count": 1,
   "id": "3e85eb2f",
   "metadata": {},
   "outputs": [
    {
     "name": "stdout",
     "output_type": "stream",
     "text": [
      "/bin/bash: /home/koiti/anaconda3/lib/libtinfo.so.6: no version information available (required by /bin/bash)\n",
      "Requirement already satisfied: face_recognition in /home/koiti/anaconda3/envs/viso/lib/python3.10/site-packages (1.3.0)\n",
      "Requirement already satisfied: opencv-python in /home/koiti/anaconda3/envs/viso/lib/python3.10/site-packages (4.11.0.86)\n",
      "Requirement already satisfied: pillow in /home/koiti/anaconda3/envs/viso/lib/python3.10/site-packages (11.1.0)\n",
      "Requirement already satisfied: tqdm in /home/koiti/anaconda3/envs/viso/lib/python3.10/site-packages (4.67.1)\n",
      "Requirement already satisfied: face-recognition-models>=0.3.0 in /home/koiti/anaconda3/envs/viso/lib/python3.10/site-packages (from face_recognition) (0.3.0)\n",
      "Requirement already satisfied: Click>=6.0 in /home/koiti/anaconda3/envs/viso/lib/python3.10/site-packages (from face_recognition) (8.1.8)\n",
      "Requirement already satisfied: dlib>=19.7 in /home/koiti/anaconda3/envs/viso/lib/python3.10/site-packages (from face_recognition) (19.24.6)\n",
      "Requirement already satisfied: numpy in /home/koiti/anaconda3/envs/viso/lib/python3.10/site-packages (from face_recognition) (1.26.4)\n"
     ]
    }
   ],
   "source": [
    "!pip install face_recognition opencv-python pillow tqdm"
   ]
  },
  {
   "cell_type": "markdown",
   "id": "bb0bfd93",
   "metadata": {},
   "source": [
    "## 2. Importação de bibliotecas"
   ]
  },
  {
   "cell_type": "code",
   "execution_count": 2,
   "id": "2274b338",
   "metadata": {},
   "outputs": [],
   "source": [
    "import face_recognition\n",
    "import cv2\n",
    "import pickle\n",
    "from pathlib import Path\n",
    "from tqdm import tqdm\n"
   ]
  },
  {
   "cell_type": "markdown",
   "id": "80280c4d",
   "metadata": {},
   "source": [
    "## 3. Cadastro de pessoas\n",
    "Nesta etapa vamos:\n",
    "1. Definir uma pasta com **imagens de referência** (uma ou mais por pessoa), chamada dataset_faces.\n",
    "2. Para cada imagem, detectar o(s) rosto(s) e extrair o **encoding** de 128 dimensões.\n",
    "3. Armazenar os encodings em um dicionário `{nome: [lista de encodings]}`.\n",
    "4. Salvar o cadastro em disco (`encodings.pickle`).\n",
    "\n",
    "O nome que aparecerá na hora do reconhecimento vem da chave do dicionário de encodings — \n",
    "e essa chave é criada a partir do nome da pasta onde estão as fotos de referência."
   ]
  },
  {
   "cell_type": "code",
   "execution_count": null,
   "id": "de8dc222",
   "metadata": {},
   "outputs": [],
   "source": [
    "# Caminho para a pasta de imagens de referência\n",
    "dataset_dir = Path('dataset_faces')  # coloque suas imagens nesta pasta\n",
    "assert dataset_dir.exists(), f'Pasta {dataset_dir} não encontrada.'\n",
    "\n",
    "# Inicializa dicionário de encodings\n",
    "encodings_dict = {}\n",
    "\n",
    "# Percorre todas as imagens (suporta subpastas com o nome da pessoa)\n",
    "for img_path in tqdm(list(dataset_dir.rglob('*.[jp][pn]g')), desc='Processando imagens'):\n",
    "    name = img_path.parent.name  # supõe que a pasta é o nome da pessoa\n",
    "    image = face_recognition.load_image_file(img_path)\n",
    "    face_locations = face_recognition.face_locations(image, model='hog')  # ou 'cnn' se tiver GPU\n",
    "    if len(face_locations) != 1:\n",
    "        print(f'Aviso: {img_path} tem {len(face_locations)} rostos; ignorando.' if len(face_locations)!=1 else '')\n",
    "        continue\n",
    "    encoding = face_recognition.face_encodings(image, known_face_locations=face_locations)[0]\n",
    "    encodings_dict.setdefault(name, []).append(encoding)\n",
    "\n",
    "print(f'Pessoas cadastradas: {list(encodings_dict.keys())}')\n",
    "\n",
    "# Salva em disco\n",
    "with open('encodings.pickle', 'wb') as f:\n",
    "    pickle.dump(encodings_dict, f)\n",
    "print('Arquivo encodings.pickle salvo com sucesso!')\n"
   ]
  },
  {
   "cell_type": "markdown",
   "id": "78b1f296",
   "metadata": {},
   "source": [
    "Ou, se preferir não criar pastas com os nomes das pessoas, e cadastras por apenas uma imagem mesmo:"
   ]
  },
  {
   "cell_type": "code",
   "execution_count": 3,
   "id": "e5ae28a9",
   "metadata": {},
   "outputs": [
    {
     "name": "stdout",
     "output_type": "stream",
     "text": [
      "Cadastro de Koiti atualizado.\n"
     ]
    }
   ],
   "source": [
    "from pathlib import Path\n",
    "import pickle, face_recognition\n",
    "\n",
    "# 1. Carrega a imagem cujo rosto será cadastrado\n",
    "image = face_recognition.load_image_file('/home/koiti/Downloads/koititeste1.jpeg')\n",
    "encoding = face_recognition.face_encodings(image)[0]\n",
    "\n",
    "# 2. Pede o nome que servirá de rótulo\n",
    "nome = input(\"Digite o nome da pessoa: \").strip()\n",
    "\n",
    "# 3. Abre (ou cria) o arquivo de encodings\n",
    "enc_file = Path('encodings.pickle')\n",
    "if enc_file.exists():\n",
    "    with enc_file.open('rb') as f:\n",
    "        enc = pickle.load(f)\n",
    "else:\n",
    "    enc = {}                       # começa do zero\n",
    "\n",
    "# 4. Atualiza o dicionário com o novo rosto\n",
    "enc.setdefault(nome, []).append(encoding)\n",
    "\n",
    "# 5. Salva de volta em disco\n",
    "with enc_file.open('wb') as f:\n",
    "    pickle.dump(enc, f)\n",
    "\n",
    "print(f\"Cadastro de {nome} atualizado.\")\n"
   ]
  },
  {
   "cell_type": "markdown",
   "id": "a20b8cea",
   "metadata": {},
   "source": [
    "## 4. Reconhecimento em uma imagem\n",
    "Nesta célula usamos o arquivo `encodings.pickle` para identificar rostos em uma imagem de teste."
   ]
  },
  {
   "cell_type": "code",
   "execution_count": 6,
   "id": "8dab85b0",
   "metadata": {},
   "outputs": [
    {
     "name": "stdout",
     "output_type": "stream",
     "text": [
      "Resultado salvo em recognized_1.jpg\n"
     ]
    }
   ],
   "source": [
    "from pathlib import Path\n",
    "import pickle, cv2, face_recognition\n",
    "# ───────────────────────────────────────────────────────────────────────\n",
    "# Carrega encodings\n",
    "with open('encodings.pickle', 'rb') as f:\n",
    "    encodings_dict = pickle.load(f)\n",
    "\n",
    "# Constrói listas para busca rápida\n",
    "known_names, known_encodings = [], []\n",
    "for name, encs in encodings_dict.items():\n",
    "    known_names.extend([name] * len(encs))\n",
    "    known_encodings.extend(encs)\n",
    "\n",
    "# Imagem a ser reconhecida\n",
    "test_img_path = Path('/home/koiti/Downloads/koititeste1.jpeg')\n",
    "assert test_img_path.exists(), 'Imagem de teste não encontrada.'\n",
    "image = face_recognition.load_image_file(test_img_path)\n",
    "\n",
    "# Detecta e reconhece\n",
    "face_locations = face_recognition.face_locations(image)\n",
    "face_encodings = face_recognition.face_encodings(image, face_locations)\n",
    "\n",
    "# Converte para BGR para exibir/salvar com OpenCV\n",
    "image_bgr = cv2.cvtColor(image, cv2.COLOR_RGB2BGR)\n",
    "\n",
    "for (top, right, bottom, left), face_encoding in zip(face_locations, face_encodings):\n",
    "    matches = face_recognition.compare_faces(known_encodings, face_encoding, tolerance=0.45)\n",
    "    name = \"Desconhecido\"\n",
    "    face_distances = face_recognition.face_distance(known_encodings, face_encoding)\n",
    "    if matches:\n",
    "        best_match_index = face_distances.argmin()\n",
    "        if matches[best_match_index]:\n",
    "            name = known_names[best_match_index]\n",
    "\n",
    "    # Desenha caixa e nome\n",
    "    cv2.rectangle(image_bgr, (left, top), (right, bottom), (0, 255, 0), 2)\n",
    "    cv2.rectangle(image_bgr, (left, bottom - 20), (right, bottom), (0, 255, 0), cv2.FILLED)\n",
    "    cv2.putText(image_bgr, name, (left + 2, bottom - 5),\n",
    "                cv2.FONT_HERSHEY_DUPLEX, 0.5, (0, 0, 0), 1)\n",
    "\n",
    "# ─── Salvar sem sobrescrever ───────────────────────────────────────────\n",
    "out_path = Path(\"recognized.jpg\")\n",
    "if out_path.exists():\n",
    "    i = 1\n",
    "    while True:\n",
    "        candidate = out_path.with_stem(f\"{out_path.stem}_{i}\")  # recognized_1.jpg ...\n",
    "        if not candidate.exists():\n",
    "            out_path = candidate\n",
    "            break\n",
    "        i += 1\n",
    "\n",
    "cv2.imwrite(str(out_path), image_bgr)\n",
    "print(f\"Resultado salvo em {out_path.name}\")\n",
    "\n"
   ]
  },
  {
   "cell_type": "markdown",
   "id": "620b50a2",
   "metadata": {},
   "source": [
    "## 5. Reconhecimento em tempo real via webcam (opcional)\n",
    "Pressione **`q`** para encerrar a captura."
   ]
  },
  {
   "cell_type": "code",
   "execution_count": 7,
   "id": "884777f1",
   "metadata": {},
   "outputs": [],
   "source": [
    "# ⚠️ Execute esta célula somente em ambiente local com webcam\n",
    "video_capture = cv2.VideoCapture(0)\n",
    "\n",
    "with open('encodings.pickle', 'rb') as f:\n",
    "    encodings_dict = pickle.load(f)\n",
    "\n",
    "known_names = []\n",
    "known_encodings = []\n",
    "for name, encs in encodings_dict.items():\n",
    "    known_names.extend([name]*len(encs))\n",
    "    known_encodings.extend(encs)\n",
    "\n",
    "while True:\n",
    "    ret, frame = video_capture.read()\n",
    "    if not ret:\n",
    "        print('Falha na captura da webcam'); break\n",
    "\n",
    "    # Reduz resolução p/ acelerar\n",
    "    small_frame = cv2.resize(frame, (0, 0), fx=0.25, fy=0.25)\n",
    "    rgb_small_frame = cv2.cvtColor(small_frame, cv2.COLOR_BGR2RGB)\n",
    "\n",
    "    face_locations = face_recognition.face_locations(rgb_small_frame)\n",
    "    face_encodings = face_recognition.face_encodings(rgb_small_frame, face_locations)\n",
    "\n",
    "    for (top, right, bottom, left), face_encoding in zip(face_locations, face_encodings):\n",
    "        matches = face_recognition.compare_faces(known_encodings, face_encoding, tolerance=0.45)\n",
    "        name = \"Desconhecido\"\n",
    "\n",
    "        face_distances = face_recognition.face_distance(known_encodings, face_encoding)\n",
    "        if matches:\n",
    "            best_match_index = face_distances.argmin()\n",
    "            if matches[best_match_index]:\n",
    "                name = known_names[best_match_index]\n",
    "\n",
    "        # Ajusta coordenadas p/ tamanho original\n",
    "        top, right, bottom, left = [v*4 for v in (top, right, bottom, left)]\n",
    "\n",
    "        cv2.rectangle(frame, (left, top), (right, bottom), (0, 255, 0), 2)\n",
    "        cv2.rectangle(frame, (left, bottom - 20), (right, bottom), (0, 255, 0), cv2.FILLED)\n",
    "        cv2.putText(frame, name, (left + 2, bottom - 5), cv2.FONT_HERSHEY_DUPLEX, 0.5, (0, 0, 0), 1)\n",
    "\n",
    "    cv2.imshow('Reconhecimento Facial', frame)\n",
    "    if cv2.waitKey(1) & 0xFF == ord('q'):\n",
    "        break\n",
    "\n",
    "video_capture.release()\n",
    "cv2.destroyAllWindows()\n"
   ]
  }
 ],
 "metadata": {
  "kernelspec": {
   "display_name": "viso",
   "language": "python",
   "name": "python3"
  },
  "language_info": {
   "codemirror_mode": {
    "name": "ipython",
    "version": 3
   },
   "file_extension": ".py",
   "mimetype": "text/x-python",
   "name": "python",
   "nbconvert_exporter": "python",
   "pygments_lexer": "ipython3",
   "version": "3.10.17"
  }
 },
 "nbformat": 4,
 "nbformat_minor": 5
}
